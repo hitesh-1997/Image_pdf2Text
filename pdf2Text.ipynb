{
 "cells": [
  {
   "cell_type": "code",
   "execution_count": 39,
   "metadata": {
    "scrolled": true
   },
   "outputs": [
    {
     "name": "stderr",
     "output_type": "stream",
     "text": [
      "\r",
      "  0%|          | 0/670 [00:00<?, ?it/s]"
     ]
    },
    {
     "name": "stdout",
     "output_type": "stream",
     "text": [
      "--------------------------------------------------------  <class 'wand.image.Image'>\n"
     ]
    },
    {
     "name": "stderr",
     "output_type": "stream",
     "text": [
      "100%|██████████| 670/670 [31:44<00:00,  2.84s/it]\n"
     ]
    }
   ],
   "source": [
    "import os\n",
    "import io\n",
    "from PIL import Image\n",
    "import pytesseract\n",
    "from wand.image import Image as wi\n",
    "import gc\n",
    "from tqdm import tqdm\n",
    "\n",
    "pdf_path = './jpg2pdf.pdf'\n",
    "\n",
    "pdf=wi(filename=pdf_path,resolution=300)\n",
    "pdfImg=pdf.convert('jpeg')\n",
    "print('-------------------------------------------------------- ',type(pdf))\n",
    "\n",
    "imgBlobs=[]\n",
    "extracted_text=[]\n",
    "\n",
    "index = 0\n",
    "\n",
    "for img in tqdm(pdfImg.sequence):\n",
    "    page=wi(image=img)\n",
    "    imgBlob = page.make_blob('jpeg')\n",
    "    im=Image.open(io.BytesIO(imgBlob))\n",
    "    text=pytesseract.image_to_string(im,lang='eng')\n",
    "    text_file = open('./outputs/bhasme_'+str(index)+'.txt', \"w\")\n",
    "    index = index+1\n",
    "    text_file.write(text)\n",
    "    text_file.close()\n",
    "    extracted_text.append(text)\n",
    "    \n",
    "with open(\"bhasme anthro.txt\", \"w\") as outfile:\n",
    "    for text in tqdm(extracted_text):\n",
    "        outfile.write(text)\n",
    "        outfile.write('\\n')\n",
    "    "
   ]
  }
 ],
 "metadata": {
  "kernelspec": {
   "display_name": "Python 3",
   "language": "python",
   "name": "python3"
  },
  "language_info": {
   "codemirror_mode": {
    "name": "ipython",
    "version": 3
   },
   "file_extension": ".py",
   "mimetype": "text/x-python",
   "name": "python",
   "nbconvert_exporter": "python",
   "pygments_lexer": "ipython3",
   "version": "3.7.6"
  }
 },
 "nbformat": 4,
 "nbformat_minor": 4
}
